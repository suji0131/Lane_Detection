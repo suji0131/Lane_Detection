{
 "cells": [
  {
   "cell_type": "code",
   "execution_count": 3,
   "metadata": {
    "collapsed": true
   },
   "outputs": [],
   "source": [
    "import matplotlib.pyplot as plt\n",
    "import matplotlib.image as mpimg\n",
    "import numpy as np\n",
    "import cv2, math, moviepy\n",
    "from moviepy.editor import VideoFileClip\n",
    "from IPython.display import HTML\n",
    "import scipy.stats as sp\n",
    "%matplotlib inline"
   ]
  },
  {
   "cell_type": "code",
   "execution_count": 6,
   "metadata": {
    "collapsed": true
   },
   "outputs": [],
   "source": [
    "class lane:\n",
    "    def __init__(self):\n",
    "        'img_name is a string that indicates file path'\n",
    "        self.m_ = np.array([0,0]) #holds previous slope value.\n",
    "        self.x1_ = np.array([0,0])\n",
    "        self.x2_ = np.array([0,0])\n",
    "\n",
    "    def grayscale(self, img):\n",
    "        \"\"\"Applies the Grayscale transform\n",
    "        This will return an image with only one color channel\n",
    "        but NOTE: to see the returned image as grayscale\n",
    "        (assuming your grayscaled image is called 'gray')\n",
    "        you should call plt.imshow(gray, cmap='gray')\"\"\"\n",
    "        return cv2.cvtColor(img, cv2.COLOR_BGR2GRAY)\n",
    "        #used BGR2GRAY if you read an image with cv2.imread()\n",
    "        #use RGB2GRAY for mpimg.imread()\n",
    "\n",
    "    def gaussian_blur(self, img, kernel_size):\n",
    "        'Applies guassian blur, which clears noise and avg'\n",
    "        return cv2.GaussianBlur(img, (kernel_size, kernel_size), 0)\n",
    "\n",
    "    def canny(self, img, low_threshold=65, high_threshold=195):\n",
    "        'Applies the canny edge transform'\n",
    "        return cv2.Canny(img, low_threshold, high_threshold)\n",
    "\n",
    "    def region_of_interest(self, img, vertices):\n",
    "        \"\"\"\n",
    "        Applies an image mask.\n",
    "        Only keeps the region of the image defined by the polygon\n",
    "        formed from `vertices`. The rest of the image is set to black.\n",
    "        \"\"\"\n",
    "        #defining a blank mask to start with\n",
    "        mask = np.zeros_like(img)\n",
    "\n",
    "        #defining a 3 channel or 1 channel color to fill the mask with depending on the input image\n",
    "        if len(img.shape) > 2:\n",
    "            channel_count = img.shape[2]  # i.e. 3 or 4 depending on your image\n",
    "            ignore_mask_color = (255,) * channel_count\n",
    "        else:\n",
    "            ignore_mask_color = 255\n",
    "\n",
    "        #filling pixels inside the polygon defined by \"vertices\" with the fill color\n",
    "        cv2.fillPoly(mask, vertices, ignore_mask_color)\n",
    "\n",
    "        #returning the image only where mask pixels are nonzero\n",
    "        masked_image = cv2.bitwise_and(img, mask)\n",
    "        return masked_image\n",
    "\n",
    "    def draw_lines(self, img, lines, color=[200, 0, 0], thickness=10):\n",
    "        \"\"\"\n",
    "        NOTE: this is the function you might want to use as a starting point once you want to\n",
    "        average/extrapolate the line segments you detect to map out the full\n",
    "        extent of the lane (going from the result shown in raw-lines-example.mp4\n",
    "        to that shown in P1_example.mp4).\n",
    "\n",
    "        Think about things like separating line segments by their\n",
    "        slope ((y2-y1)/(x2-x1)) to decide which segments are part of the left\n",
    "        line vs. the right line.  Then, you can average the position of each of\n",
    "        the lines and extrapolate to the top and bottom of the lane.\n",
    "\n",
    "        This function draws `lines` with `color` and `thickness`.\n",
    "        Lines are drawn on the image inplace (mutates the image).\n",
    "        If you want to make the lines semi-transparent, think about combining\n",
    "        this function with the weighted_img() function below\n",
    "        \"\"\"\n",
    "        for line in lines:\n",
    "            for x1,y1,x2,y2 in line:\n",
    "                cv2.line(img, (x1, y1), (x2, y2), color, thickness)\n",
    "\n",
    "    def hough_lines_old(self, img, rho=1, theta=np.pi/180, threshold=50, min_line_len=20, max_line_gap=25):\n",
    "        \"\"\"\n",
    "        `img` should be the output of a Canny transform.\n",
    "        Returns an image with hough lines drawn.\n",
    "        \"\"\"\n",
    "        #rho = distance resolution in pixels of the Hough grid\n",
    "        #theta = angular resolution in radians of the Hough grid\n",
    "        #threshold = minimum number of votes (intersections in Hough grid cell)\n",
    "        #min_line_length = minimum number of pixels making up a line\n",
    "        #max_line_gap = maximum gap in pixels between connectable line segments\n",
    "        lines = cv2.HoughLinesP(img, rho, theta, threshold, np.array([]), minLineLength=min_line_len, maxLineGap=max_line_gap)\n",
    "        line_img = np.copy(self.image)\n",
    "        self.draw_lines(line_img, lines)\n",
    "        return line_img\n",
    "\n",
    "    def regression(self, points, rl):\n",
    "        \"\"\"\n",
    "        points is set of points that form lines after hough_transformation.\n",
    "        Instead of simply averaging slopes, fitting a regression line is a better\n",
    "        and robust option\n",
    "        rl: tells whether points form left or right side line.\n",
    "        \"\"\"\n",
    "        if (len(points)==0): #when no points are detected, previous line will be used\n",
    "            return np.array([self.x1_[rl],540,self.x2_[rl],340])\n",
    "        else:\n",
    "            x = np.append(points[:,0,0], points[:,0,2]) #x cordinates of every pts\n",
    "            y = np.append(points[:,0,1], points[:,0,3])#y cordinates of every pts\n",
    "            m, c, r, p, std = sp.linregress(x,y) #regression\n",
    "        if (self.m_[rl] == 0): #self.m_ holds previous slope value.\n",
    "            pass #for first time\n",
    "        else:\n",
    "            m = (m + self.m_[rl])/2 #averages previous slope and new slope\n",
    "        self.m_[rl] = m #update\n",
    "        y1 = 540        #find points that form the regression line\n",
    "        x1 = int((y1-c)/m)\n",
    "        self.x1_[rl] = np.copy(x1)\n",
    "        y2 = 340\n",
    "        x2 = int((y2-c)/m)\n",
    "        self.x2_[rl] = np.copy(x2)\n",
    "        return np.array([x1, y1, x2, y2]) #two points that form a line\n",
    "\n",
    "    def hough_lines(self, img, rho=1, theta=np.pi/180, threshold=50, min_line_len=20, max_line_gap=25):\n",
    "        \"\"\"\n",
    "        `img` should be the output of a Canny transform.\n",
    "\n",
    "        Returns an image with hough lines drawn.\n",
    "        \"\"\"\n",
    "        lines = cv2.HoughLinesP(img, rho, theta, threshold, np.array([]), minLineLength=min_line_len, maxLineGap=max_line_gap)\n",
    "        y_ = lines[:,0,3] - lines[:,0,1]\n",
    "        x_ = lines[:,0,2] - lines[:,0,0]\n",
    "        slope = np.divide(y_, x_)\n",
    "\n",
    "        new_lines = np.zeros((2,1,4), dtype = int)\n",
    "        new_lines[0,0,:] = self.regression(lines[slope > 0.1], 0) #right side pts\n",
    "        temp = lines[slope < -0.1]\n",
    "        new_lines[1,0,:] = self.regression(temp, 1) #left side pts\n",
    "\n",
    "\n",
    "        line_img = np.copy(self.image)\n",
    "        self.draw_lines(line_img, new_lines)\n",
    "        return line_img\n",
    "\n",
    "    def weighted_img(self, img, initial_img, α=0.8, β=1., λ=0.):\n",
    "        \"\"\"\n",
    "        `img` is the output of the hough_lines(), An image with lines drawn on it.\n",
    "        Should be a blank image (all black) with lines drawn on it.\n",
    "        `initial_img` should be the image before any processing.\n",
    "        The result image is computed as follows:\n",
    "        initial_img * α + img * β + λ\n",
    "        NOTE: initial_img and img must be the same shape!\n",
    "        \"\"\"\n",
    "        return cv2.addWeighted(initial_img, α, img, β, λ)\n",
    "\n",
    "    def pipe_line(self, img):\n",
    "        self.image = img\n",
    "        vertices = np.array([[(0,540),(430, 320), (510, 320), (910, 540)]], dtype=np.int32)\n",
    "        gray_img = self.grayscale(self.image) #gray scale\n",
    "        gray_gauss = self.gaussian_blur(gray_img, 3) #guassian blur\n",
    "        canny_img = self.canny(gray_gauss) #canny edge detection\n",
    "        reg_interest = self.region_of_interest(canny_img, vertices) #region of int\n",
    "        hough_img = self.hough_lines(reg_interest) #hough transformation\n",
    "        return hough_img\n"
   ]
  },
  {
   "cell_type": "code",
   "execution_count": 7,
   "metadata": {
    "collapsed": false
   },
   "outputs": [
    {
     "name": "stdout",
     "output_type": "stream",
     "text": [
      "[MoviePy] >>>> Building video yellow.mp4\n",
      "[MoviePy] Writing video yellow.mp4\n"
     ]
    },
    {
     "name": "stderr",
     "output_type": "stream",
     "text": [
      "100%|█████████▉| 681/682 [00:18<00:00, 36.66it/s]\n"
     ]
    },
    {
     "name": "stdout",
     "output_type": "stream",
     "text": [
      "[MoviePy] Done.\n",
      "[MoviePy] >>>> Video ready: yellow.mp4 \n",
      "\n"
     ]
    }
   ],
   "source": [
    "trail = lane() #initializing an object of lane type\n",
    "white_output = 'yellow.mp4'\n",
    "clip1 = VideoFileClip(\"solidYellowLeft.mp4\")\n",
    "white_clip = clip1.fl_image(trail.pipe_line) #NOTE: this function expects color images!!\n",
    "white_clip.write_videofile(white_output, audio=False)"
   ]
  },
  {
   "cell_type": "code",
   "execution_count": null,
   "metadata": {
    "collapsed": true
   },
   "outputs": [],
   "source": []
  }
 ],
 "metadata": {
  "kernelspec": {
   "display_name": "Python 3",
   "language": "python",
   "name": "python3"
  },
  "language_info": {
   "codemirror_mode": {
    "name": "ipython",
    "version": 3
   },
   "file_extension": ".py",
   "mimetype": "text/x-python",
   "name": "python",
   "nbconvert_exporter": "python",
   "pygments_lexer": "ipython3",
   "version": "3.5.2"
  },
  "widgets": {
   "state": {},
   "version": "1.1.2"
  }
 },
 "nbformat": 4,
 "nbformat_minor": 2
}
