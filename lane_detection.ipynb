{
 "cells": [
  {
   "cell_type": "code",
   "execution_count": 1,
   "metadata": {
    "collapsed": true,
    "deletable": true,
    "editable": true
   },
   "outputs": [],
   "source": [
    "#importing some useful packages\n",
    "import matplotlib.pyplot as plt\n",
    "import matplotlib.image as mpimg\n",
    "import numpy as np\n",
    "import cv2\n",
    "%matplotlib inline"
   ]
  },
  {
   "cell_type": "code",
   "execution_count": 2,
   "metadata": {
    "collapsed": false,
    "deletable": true,
    "editable": true
   },
   "outputs": [
    {
     "name": "stdout",
     "output_type": "stream",
     "text": [
      "This image is: <class 'numpy.ndarray'> with dimesions: (540, 960, 3)\n"
     ]
    }
   ],
   "source": [
    "image = cv2.imread('solidWhiteCurve.jpg')\n",
    "print('This image is:', type(image), 'with dimesions:', image.shape)"
   ]
  },
  {
   "cell_type": "code",
   "execution_count": 3,
   "metadata": {
    "collapsed": true,
    "deletable": true,
    "editable": true
   },
   "outputs": [],
   "source": [
    "import math\n",
    "\n",
    "def grayscale(img):\n",
    "    \"\"\"Applies the Grayscale transform\n",
    "    This will return an image with only one color channel\n",
    "    but NOTE: to see the returned image as grayscale\n",
    "    (assuming your grayscaled image is called 'gray')\n",
    "    you should call plt.imshow(gray, cmap='gray')\"\"\"\n",
    "    return cv2.cvtColor(img, cv2.COLOR_RGB2GRAY)\n",
    "    # Or use BGR2GRAY if you read an image with cv2.imread()\n",
    "    # return cv2.cvtColor(img, cv2.COLOR_BGR2GRAY)\n",
    "    \n",
    "def canny(img, low_threshold, high_threshold):\n",
    "    \"\"\"Applies the Canny transform\"\"\"\n",
    "    return cv2.Canny(img, low_threshold, high_threshold)\n",
    "\n",
    "def gaussian_blur(img, kernel_size):\n",
    "    \"\"\"Applies a Gaussian Noise kernel\"\"\"\n",
    "    return cv2.GaussianBlur(img, (kernel_size, kernel_size), 0)\n",
    "\n",
    "def region_of_interest(img, vertices):\n",
    "    \"\"\"\n",
    "    Applies an image mask.\n",
    "    \n",
    "    Only keeps the region of the image defined by the polygon\n",
    "    formed from `vertices`. The rest of the image is set to black.\n",
    "    \"\"\"\n",
    "    #defining a blank mask to start with\n",
    "    mask = np.zeros_like(img)   \n",
    "    \n",
    "    #defining a 3 channel or 1 channel color to fill the mask with depending on the input image\n",
    "    if len(img.shape) > 2:\n",
    "        channel_count = img.shape[2]  # i.e. 3 or 4 depending on your image\n",
    "        ignore_mask_color = (255,) * channel_count\n",
    "    else:\n",
    "        ignore_mask_color = 255\n",
    "        \n",
    "    #filling pixels inside the polygon defined by \"vertices\" with the fill color    \n",
    "    cv2.fillPoly(mask, vertices, ignore_mask_color)\n",
    "    \n",
    "    #returning the image only where mask pixels are nonzero\n",
    "    masked_image = cv2.bitwise_and(img, mask)\n",
    "    return masked_image\n",
    "\n",
    "\n",
    "def draw_lines(img, lines, color=[255, 0, 0], thickness=5):\n",
    "    \"\"\"\n",
    "    NOTE: this is the function you might want to use as a starting point once you want to \n",
    "    average/extrapolate the line segments you detect to map out the full\n",
    "    extent of the lane (going from the result shown in raw-lines-example.mp4\n",
    "    to that shown in P1_example.mp4).  \n",
    "    \n",
    "    Think about things like separating line segments by their \n",
    "    slope ((y2-y1)/(x2-x1)) to decide which segments are part of the left\n",
    "    line vs. the right line.  Then, you can average the position of each of \n",
    "    the lines and extrapolate to the top and bottom of the lane.\n",
    "    \n",
    "    This function draws `lines` with `color` and `thickness`.    \n",
    "    Lines are drawn on the image inplace (mutates the image).\n",
    "    If you want to make the lines semi-transparent, think about combining\n",
    "    this function with the weighted_img() function below\n",
    "    \"\"\"\n",
    "    for line in lines:\n",
    "        for x1,y1,x2,y2 in line:\n",
    "            cv2.line(img, (x1, y1), (x2, y2), color, thickness)\n",
    "\n",
    "\n",
    "# Python 3 has support for cool math symbols.\n",
    "\n",
    "def weighted_img(img, initial_img, α=0.8, β=1., λ=0.):\n",
    "    \"\"\"\n",
    "    `img` is the output of the hough_lines(), An image with lines drawn on it.\n",
    "    Should be a blank image (all black) with lines drawn on it.\n",
    "    \n",
    "    `initial_img` should be the image before any processing.\n",
    "    \n",
    "    The result image is computed as follows:\n",
    "    \n",
    "    initial_img * α + img * β + λ\n",
    "    NOTE: initial_img and img must be the same shape!\n",
    "    \"\"\"\n",
    "    return cv2.addWeighted(initial_img, α, img, β, λ)"
   ]
  },
  {
   "cell_type": "code",
   "execution_count": 4,
   "metadata": {
    "collapsed": false,
    "deletable": true,
    "editable": true
   },
   "outputs": [],
   "source": [
    "vertices = np.array([[(0,540),(430, 330), (510, 330), (960, 540)]], dtype=np.int32)\n",
    "image = mpimg.imread('solidWhiteRight.jpg')\n",
    "gray_img = grayscale(image)\n",
    "gray_gauss = gaussian_blur(gray_img, 3)\n",
    "canny_img = canny(gray_gauss, 65, 195)\n",
    "h_lines = hough_lines(canny_img,1,np.pi/180,50,20,25)\n"
   ]
  },
  {
   "cell_type": "code",
   "execution_count": 5,
   "metadata": {
    "collapsed": false,
    "deletable": true,
    "editable": true
   },
   "outputs": [
    {
     "name": "stdout",
     "output_type": "stream",
     "text": [
      "<class 'numpy.ndarray'> (60, 1, 4)\n"
     ]
    }
   ],
   "source": [
    "print (type(h_lines), np.shape(h_lines))\n"
   ]
  },
  {
   "cell_type": "code",
   "execution_count": 6,
   "metadata": {
    "collapsed": false,
    "deletable": true,
    "editable": true
   },
   "outputs": [
    {
     "name": "stdout",
     "output_type": "stream",
     "text": [
      "[ 0.62469136  0.65171504  0.19422572  0.19574468  0.65104167 -0.21167883\n",
      " -0.16037736 -0.1734104  -0.13793103 -0.02702703 -0.22857143 -0.09090909\n",
      "  0.625      -0.234375   -0.25806452 -0.68085106 -0.15942029 -0.13333333\n",
      "  0.0326087   0.          0.12857143  0.18032787 -0.72164948 -0.26785714\n",
      " -0.21621622 -0.30120482 -0.27536232 -0.18918919 -0.2173913  -0.13333333\n",
      " -0.24576271 -0.13846154  0.11864407 -0.22222222 -0.10416667 -0.72631579\n",
      " -0.23404255 -0.68888889 -0.17105263 -0.17857143 -0.12121212 -0.22222222\n",
      " -0.04597701 -0.20618557 -0.17647059 -0.10526316 -0.11940299  0.65142857\n",
      " -0.1        -0.10344828 -0.17460317 -0.19008264 -0.03030303 -0.12149533\n",
      " -0.12318841 -0.13793103        -inf -0.72093023 -0.7         0.02040816]\n"
     ]
    },
    {
     "name": "stderr",
     "output_type": "stream",
     "text": [
      "/home/clairvoyance/miniconda3/envs/carnd-term1/lib/python3.5/site-packages/ipykernel/__main__.py:3: RuntimeWarning: divide by zero encountered in true_divide\n",
      "  app.launch_new_instance()\n"
     ]
    }
   ],
   "source": [
    "y_ = h_lines[:,0,3] - h_lines[:,0,1]\n",
    "x_ = h_lines[:,0,2] - h_lines[:,0,0]\n",
    "slope = np.divide(y_, x_)\n",
    "print (slope)"
   ]
  },
  {
   "cell_type": "code",
   "execution_count": 7,
   "metadata": {
    "collapsed": false,
    "deletable": true,
    "editable": true
   },
   "outputs": [
    {
     "name": "stdout",
     "output_type": "stream",
     "text": [
      "60\n"
     ]
    }
   ],
   "source": [
    "slope[slope <= -1E308] = 0\n",
    "print(len(slope))"
   ]
  },
  {
   "cell_type": "code",
   "execution_count": 8,
   "metadata": {
    "collapsed": false,
    "deletable": true,
    "editable": true
   },
   "outputs": [
    {
     "name": "stdout",
     "output_type": "stream",
     "text": [
      "18.7540935069 -13.3618141633\n"
     ]
    }
   ],
   "source": [
    "positive = slope[slope > 0]\n",
    "avg_p = np.average(positive)\n",
    "negative = slope[slope < 0]\n",
    "avg_n = np.average(negative)\n",
    "print (np.arctan(avg_p)*180/np.pi, np.arctan(avg_n)*180/np.pi)"
   ]
  },
  {
   "cell_type": "code",
   "execution_count": 9,
   "metadata": {
    "collapsed": false,
    "deletable": true,
    "editable": true
   },
   "outputs": [
    {
     "name": "stdout",
     "output_type": "stream",
     "text": [
      "(24,) (24,)\n"
     ]
    }
   ],
   "source": [
    "pos_pts = h_lines[slope > 0]\n",
    "pos_x = np.append(pos_pts[:,0,0], pos_pts[:,0,2])\n",
    "pos_y = np.append(pos_pts[:,0,1], pos_pts[:,0,3])\n",
    "print (np.shape(pos_x), np.shape(pos_y))\n",
    "\n",
    "neg_pts = h_lines[slope < 0]\n"
   ]
  },
  {
   "cell_type": "code",
   "execution_count": 16,
   "metadata": {
    "collapsed": false,
    "deletable": true,
    "editable": true
   },
   "outputs": [
    {
     "name": "stdout",
     "output_type": "stream",
     "text": [
      "151.07589642\n"
     ]
    }
   ],
   "source": [
    "import scipy.stats as sp\n",
    "m, c, r_value, p_value, std_err = sp.linregress(pos_x,y=pos_y)\n",
    "print (intercept)"
   ]
  },
  {
   "cell_type": "code",
   "execution_count": 21,
   "metadata": {
    "collapsed": false
   },
   "outputs": [
    {
     "name": "stdout",
     "output_type": "stream",
     "text": [
      "350 350\n"
     ]
    }
   ],
   "source": [
    "y1 = 540\n",
    "x1 = int((y1-c)/m)\n",
    "\n",
    "y2 = 350\n",
    "x2 = int((y2-c)/m)\n",
    "\n",
    "new_line = np.zeros((2,1,4), dtype = int)\n",
    "new_line[0,0,:] = np.array([x1, y1, x2, y2])\n",
    "new_line[1,0,:] = np.array([x1, y1, x2, y2])\n",
    "\n",
    "print (y2, new_line[0,0,3])"
   ]
  },
  {
   "cell_type": "code",
   "execution_count": null,
   "metadata": {
    "collapsed": true
   },
   "outputs": [],
   "source": [
    "def hough_lines(img, rho, theta, threshold, min_line_len, max_line_gap):\n",
    "    \"\"\"\n",
    "    `img` should be the output of a Canny transform.\n",
    "        \n",
    "    Returns an image with hough lines drawn.\n",
    "    \"\"\"\n",
    "    lines = cv2.HoughLinesP(img, rho, theta, threshold, np.array([]), minLineLength=min_line_len, maxLineGap=max_line_gap)\n",
    "    y_ = lines[:,0,3] - lines[:,0,1]\n",
    "    x_ = lines[:,0,2] - lines[:,0,0]\n",
    "    slope = np.divide(y_, x_)\n",
    "    \n",
    "    lef_pts = lines[slope > 0]\n",
    "    lef_x = np.append(lef_pts[:,0,0], lef_pts[:,0,2])\n",
    "    lef_y = np.append(lef_pts[:,0,1], lef_pts[:,0,3])\n",
    "    m_l, c_l, r_l, p_l, se_l = sp.linregress(lef_x,lef_y)\n",
    "    yl1 = 540\n",
    "    xl1 = int((y1-c_l)/m_l)\n",
    "    yl2 = 350\n",
    "    xl2 = int((y2-c_l)/m_l)\n",
    "\n",
    "    \n",
    "    rig_pts = lines[slope < 0]\n",
    "    rig_x = np.append(rig_pts[:,0,0], rig_pts[:,0,2])\n",
    "    rig_y = np.append(rig_pts[:,0,1], rig_pts[:,0,3])\n",
    "    m_r, c_r, r_r, p_r, se_r = sp.linregress(rig_x,rig_y)\n",
    "    yr1 = 540\n",
    "    xr1 = int((y1-c_r)/m_r)\n",
    "    yr2 = 350\n",
    "    xr2 = int((y2-c_r)/m_r)\n",
    "\n",
    "    new_lines = np.zeros((2,1,4), dtype = int)\n",
    "    new_lines[0,0,:] = np.array([xl1, yl1, xl2, yl2])\n",
    "    new_lines[1,0,:] = np.array([xr1, yr1, xr2, yr2])\n",
    "    \n",
    "    line_img = np.zeros((img.shape[0], img.shape[1], 3), dtype=np.uint8)\n",
    "    draw_lines(line_img, new_lines)\n",
    "    \n"
   ]
  }
 ],
 "metadata": {
  "kernelspec": {
   "display_name": "Python 3",
   "language": "python",
   "name": "python3"
  },
  "language_info": {
   "codemirror_mode": {
    "name": "ipython",
    "version": 3
   },
   "file_extension": ".py",
   "mimetype": "text/x-python",
   "name": "python",
   "nbconvert_exporter": "python",
   "pygments_lexer": "ipython3",
   "version": "3.5.2"
  },
  "widgets": {
   "state": {},
   "version": "1.1.2"
  }
 },
 "nbformat": 4,
 "nbformat_minor": 2
}
